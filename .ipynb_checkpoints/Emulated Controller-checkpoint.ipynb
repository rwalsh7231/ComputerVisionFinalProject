{
 "cells": [
  {
   "cell_type": "markdown",
   "source": [
    "# Emulated Hand Controller\n",
    "\n",
    "## By Haris Naveed, Jash Narwani, and Robert Walsh\n",
    "\n",
    "For this project our goal is to create a hand tracking and gesture recognition system in such a way that the gestures could be used as a replacement for a simple game controller.\n",
    "In this case we intend to target the NES for our controller input"
   ],
   "metadata": {
    "collapsed": false
   },
   "id": "5a38f18f87b785c3"
  },
  {
   "cell_type": "markdown",
   "source": [
    "## Step 1: Hand Tracking\n",
    "\n",
    "In order to do anything for this project, we first need a method to track our hands. We can do this by making use of the mediapipe and openCV packages"
   ],
   "metadata": {
    "collapsed": false
   },
   "id": "4ca63ab6ce01252a"
  },
  {
   "cell_type": "code",
   "execution_count": 2,
   "outputs": [
    {
     "ename": "ImportError",
     "evalue": "DLL load failed while importing _framework_bindings: A dynamic link library (DLL) initialization routine failed.",
     "output_type": "error",
     "traceback": [
      "\u001B[1;31m---------------------------------------------------------------------------\u001B[0m",
      "\u001B[1;31mImportError\u001B[0m                               Traceback (most recent call last)",
      "Cell \u001B[1;32mIn[2], line 3\u001B[0m\n\u001B[0;32m      1\u001B[0m \u001B[38;5;66;03m# here's our packages\u001B[39;00m\n\u001B[0;32m      2\u001B[0m \u001B[38;5;28;01mimport\u001B[39;00m \u001B[38;5;21;01mcv2\u001B[39;00m\n\u001B[1;32m----> 3\u001B[0m \u001B[38;5;28;01mimport\u001B[39;00m \u001B[38;5;21;01mmediapipe\u001B[39;00m \u001B[38;5;28;01mas\u001B[39;00m \u001B[38;5;21;01mmp\u001B[39;00m\n\u001B[0;32m      5\u001B[0m \u001B[38;5;66;03m# we will also need copy so we can get a clean cut of our frames\u001B[39;00m\n\u001B[0;32m      6\u001B[0m \u001B[38;5;28;01mimport\u001B[39;00m \u001B[38;5;21;01mcopy\u001B[39;00m\n",
      "File \u001B[1;32m~\\AppData\\Local\\Programs\\Python\\Python311\\Lib\\site-packages\\mediapipe\\__init__.py:15\u001B[0m\n\u001B[0;32m      1\u001B[0m \u001B[38;5;66;03m# Copyright 2019 - 2022 The MediaPipe Authors.\u001B[39;00m\n\u001B[0;32m      2\u001B[0m \u001B[38;5;66;03m#\u001B[39;00m\n\u001B[0;32m      3\u001B[0m \u001B[38;5;66;03m# Licensed under the Apache License, Version 2.0 (the \"License\");\u001B[39;00m\n\u001B[1;32m   (...)\u001B[0m\n\u001B[0;32m     12\u001B[0m \u001B[38;5;66;03m# See the License for the specific language governing permissions and\u001B[39;00m\n\u001B[0;32m     13\u001B[0m \u001B[38;5;66;03m# limitations under the License.\u001B[39;00m\n\u001B[1;32m---> 15\u001B[0m \u001B[38;5;28;01mfrom\u001B[39;00m \u001B[38;5;21;01mmediapipe\u001B[39;00m\u001B[38;5;21;01m.\u001B[39;00m\u001B[38;5;21;01mpython\u001B[39;00m \u001B[38;5;28;01mimport\u001B[39;00m \u001B[38;5;241m*\u001B[39m\n\u001B[0;32m     16\u001B[0m \u001B[38;5;28;01mimport\u001B[39;00m \u001B[38;5;21;01mmediapipe\u001B[39;00m\u001B[38;5;21;01m.\u001B[39;00m\u001B[38;5;21;01mpython\u001B[39;00m\u001B[38;5;21;01m.\u001B[39;00m\u001B[38;5;21;01msolutions\u001B[39;00m \u001B[38;5;28;01mas\u001B[39;00m \u001B[38;5;21;01msolutions\u001B[39;00m \n\u001B[0;32m     17\u001B[0m \u001B[38;5;28;01mimport\u001B[39;00m \u001B[38;5;21;01mmediapipe\u001B[39;00m\u001B[38;5;21;01m.\u001B[39;00m\u001B[38;5;21;01mtasks\u001B[39;00m\u001B[38;5;21;01m.\u001B[39;00m\u001B[38;5;21;01mpython\u001B[39;00m \u001B[38;5;28;01mas\u001B[39;00m \u001B[38;5;21;01mtasks\u001B[39;00m\n",
      "File \u001B[1;32m~\\AppData\\Local\\Programs\\Python\\Python311\\Lib\\site-packages\\mediapipe\\python\\__init__.py:17\u001B[0m\n\u001B[0;32m      1\u001B[0m \u001B[38;5;66;03m# Copyright 2020-2021 The MediaPipe Authors.\u001B[39;00m\n\u001B[0;32m      2\u001B[0m \u001B[38;5;66;03m#\u001B[39;00m\n\u001B[0;32m      3\u001B[0m \u001B[38;5;66;03m# Licensed under the Apache License, Version 2.0 (the \"License\");\u001B[39;00m\n\u001B[1;32m   (...)\u001B[0m\n\u001B[0;32m     12\u001B[0m \u001B[38;5;66;03m# See the License for the specific language governing permissions and\u001B[39;00m\n\u001B[0;32m     13\u001B[0m \u001B[38;5;66;03m# limitations under the License.\u001B[39;00m\n\u001B[0;32m     15\u001B[0m \u001B[38;5;124;03m\"\"\"MediaPipe Python API.\"\"\"\u001B[39;00m\n\u001B[1;32m---> 17\u001B[0m \u001B[38;5;28;01mfrom\u001B[39;00m \u001B[38;5;21;01mmediapipe\u001B[39;00m\u001B[38;5;21;01m.\u001B[39;00m\u001B[38;5;21;01mpython\u001B[39;00m\u001B[38;5;21;01m.\u001B[39;00m\u001B[38;5;21;01m_framework_bindings\u001B[39;00m \u001B[38;5;28;01mimport\u001B[39;00m model_ckpt_util\n\u001B[0;32m     18\u001B[0m \u001B[38;5;28;01mfrom\u001B[39;00m \u001B[38;5;21;01mmediapipe\u001B[39;00m\u001B[38;5;21;01m.\u001B[39;00m\u001B[38;5;21;01mpython\u001B[39;00m\u001B[38;5;21;01m.\u001B[39;00m\u001B[38;5;21;01m_framework_bindings\u001B[39;00m \u001B[38;5;28;01mimport\u001B[39;00m resource_util\n\u001B[0;32m     19\u001B[0m \u001B[38;5;28;01mfrom\u001B[39;00m \u001B[38;5;21;01mmediapipe\u001B[39;00m\u001B[38;5;21;01m.\u001B[39;00m\u001B[38;5;21;01mpython\u001B[39;00m\u001B[38;5;21;01m.\u001B[39;00m\u001B[38;5;21;01m_framework_bindings\u001B[39;00m\u001B[38;5;21;01m.\u001B[39;00m\u001B[38;5;21;01mcalculator_graph\u001B[39;00m \u001B[38;5;28;01mimport\u001B[39;00m CalculatorGraph\n",
      "\u001B[1;31mImportError\u001B[0m: DLL load failed while importing _framework_bindings: A dynamic link library (DLL) initialization routine failed."
     ]
    }
   ],
   "source": [
    "# here's our packages\n",
    "import cv2\n",
    "import mediapipe as mp\n",
    "\n",
    "# we will also need copy so we can get a clean cut of our frames\n",
    "import copy\n",
    "\n",
    "# so we can show intermediate images\n",
    "import matplotlib.pyplot as plt"
   ],
   "metadata": {
    "collapsed": false,
    "ExecuteTime": {
     "end_time": "2025-04-25T19:49:36.243238700Z",
     "start_time": "2025-04-25T19:49:33.083923400Z"
    }
   },
   "id": "ef375fc1428941d0"
  },
  {
   "cell_type": "code",
   "execution_count": null,
   "outputs": [],
   "source": [
    "# Before we get started proper, we should start by defining our hand detection model.\n",
    "# Thankfully, mediapipe has a premade model specifically for finding and tracking hands, we can use it\n",
    "hands = mp.solutions.hands.Hands()"
   ],
   "metadata": {
    "collapsed": false
   },
   "id": "d38dc9e163ac87d7"
  },
  {
   "cell_type": "code",
   "execution_count": null,
   "outputs": [],
   "source": [
    "# we need to also define our cv2 capturing method. Without it, we won't be able to track our hands at all. I hope you have a camera somewhere on your computer...\n",
    "def videoCapture():\n",
    "    cap = cv2.VideoCapture(0)\n",
    "    \n",
    "    if not cap.isOpened():\n",
    "        print(\"No camera, that sucks\")\n",
    "        return None\n",
    "    \n",
    "    return cap\n",
    "\n",
    "def endCapture(cap):\n",
    "    cap.release()\n",
    "    \n",
    "    cv2.destroyAllWindows()"
   ],
   "metadata": {
    "collapsed": false
   },
   "id": "5d1b927cb876b19e"
  },
  {
   "cell_type": "code",
   "execution_count": null,
   "outputs": [],
   "source": [
    "# use this to identify our hands\n",
    "def findHand(frame, margin, hands):\n",
    "    # mediapipe uses RGB to find hands, cv2 captures BGR for some reason\n",
    "    # we correct this\n",
    "    img = cv2.cvtColor(frame, cv2.COLOR_BGR2RGB)\n",
    "\n",
    "    # use the mediapipe hands model to identify our hand and keypoints\n",
    "    results = hands.process(img)\n",
    "    cutFrame = None\n",
    "\n",
    "    # mediapipe normalizes coordinates, use capture size to fix that for later\n",
    "    h, w, c = img.shape\n",
    "\n",
    "    # if a hand is identified...\n",
    "    if results.multi_hand_landmarks:\n",
    "        # get the landmarks of the first hand\n",
    "        hand1 = results.multi_hand_landmarks[0]\n",
    "        Xs = []\n",
    "        Ys = []\n",
    "        # denormalize the coordinates of each landmark\n",
    "        for landmark in hand1.landmark:\n",
    "            cx, cy = int(landmark.x * w), int(landmark.y * h)\n",
    "            Xs.append(cx)\n",
    "            Ys.append(cy)\n",
    "\n",
    "        # identify the bounds of our hand\n",
    "        xmin = min(Xs)\n",
    "        xmax = max(Xs)\n",
    "        ymin = min(Ys)\n",
    "        ymax = max(Ys)\n",
    "\n",
    "        # crop the frame to only have our hand\n",
    "        cutFrame = copy.deepcopy(frame[max(0, ymin-margin):min(frame.shape[0], ymax+margin), max(0, xmin-margin):min(frame.shape[1], xmax+margin)])\n",
    "\n",
    "        cv2.rectangle(frame, (max(0, xmin-margin), max(0, ymin-margin)), (min(frame.shape[1], xmax+margin), min(frame.shape[0], ymax+margin)), (0, 255, 0), 2)\n",
    "\n",
    "    # return the frame, and the cropped frame (if applicable)\n",
    "    return frame, cutFrame"
   ],
   "metadata": {
    "collapsed": false
   },
   "id": "44f618d30ff5f8b1"
  },
  {
   "cell_type": "markdown",
   "source": [
    "Let's give it a try. Try running the next cell with your hand in clear view of the camera"
   ],
   "metadata": {
    "collapsed": false
   },
   "id": "85fadf9bede4a989"
  },
  {
   "cell_type": "code",
   "execution_count": null,
   "outputs": [],
   "source": [
    "cap = videoCapture()\n",
    "\n",
    "ret, frame = cap.read()\n",
    "\n",
    "# Find the hand and get the cropped frame\n",
    "frame, cutFrame = findHand(frame, 100, hands)\n",
    "\n",
    "if cutFrame is not None:\n",
    "    if cutFrame.shape[0] != 0 and cutFrame.shape[1] != 0:\n",
    "        plt.imshow(frame)\n",
    "        plt.show()\n",
    "        plt.imshow(cutFrame)\n",
    "        plt.show()\n",
    "\n",
    "endCapture(cap)"
   ],
   "metadata": {
    "collapsed": false
   },
   "id": "8c63a26f99095ad0"
  }
 ],
 "metadata": {
  "kernelspec": {
   "display_name": "Python 3",
   "language": "python",
   "name": "python3"
  },
  "language_info": {
   "codemirror_mode": {
    "name": "ipython",
    "version": 2
   },
   "file_extension": ".py",
   "mimetype": "text/x-python",
   "name": "python",
   "nbconvert_exporter": "python",
   "pygments_lexer": "ipython2",
   "version": "2.7.6"
  }
 },
 "nbformat": 4,
 "nbformat_minor": 5
}
